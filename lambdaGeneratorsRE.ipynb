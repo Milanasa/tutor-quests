{
  "nbformat": 4,
  "nbformat_minor": 0,
  "metadata": {
    "colab": {
      "provenance": [],
      "authorship_tag": "ABX9TyPxD5LDlaFepnBUnldjJXOu",
      "include_colab_link": true
    },
    "kernelspec": {
      "name": "python3",
      "display_name": "Python 3"
    },
    "language_info": {
      "name": "python"
    }
  },
  "cells": [
    {
      "cell_type": "markdown",
      "metadata": {
        "id": "view-in-github",
        "colab_type": "text"
      },
      "source": [
        "<a href=\"https://colab.research.google.com/github/Milanasa/tutor-quests/blob/main/lambdaGeneratorsRE.ipynb\" target=\"_parent\"><img src=\"https://colab.research.google.com/assets/colab-badge.svg\" alt=\"Open In Colab\"/></a>"
      ]
    },
    {
      "cell_type": "markdown",
      "source": [
        "# ***Раздел №1***\n",
        "\n",
        "\n",
        "---\n",
        "\n",
        "\n",
        "# Лямбда-функции ♿"
      ],
      "metadata": {
        "id": "hrl9BsliBf1m"
      }
    },
    {
      "cell_type": "code",
      "execution_count": null,
      "metadata": {
        "colab": {
          "base_uri": "https://localhost:8080/"
        },
        "id": "7tN_bnXJBefo",
        "outputId": "06ac1a25-c001-4180-c01a-0ceeb3357089"
      },
      "outputs": [
        {
          "output_type": "stream",
          "name": "stdout",
          "text": [
            "36\n"
          ]
        }
      ],
      "source": [
        "# Функция №1\n",
        "num = 6\n",
        "\n",
        "result = lambda x: x ** 2\n",
        "\n",
        "print(result(num))"
      ]
    },
    {
      "cell_type": "code",
      "source": [
        "# Функция №2\n",
        "num = 5\n",
        "\n",
        "result = lambda x: float(x / (x ** 2)) if x == int(x) else None\n",
        "\n",
        "print(result(num))"
      ],
      "metadata": {
        "colab": {
          "base_uri": "https://localhost:8080/"
        },
        "id": "vlVTv7QjCNvZ",
        "outputId": "00d172d4-3f78-46a5-8a11-6637d43804ac"
      },
      "execution_count": null,
      "outputs": [
        {
          "output_type": "stream",
          "name": "stdout",
          "text": [
            "0.2\n"
          ]
        }
      ]
    },
    {
      "cell_type": "code",
      "source": [
        "# Функция №3\n",
        "num = 10\n",
        "\n",
        "result = lambda x: x * 2 if x % 2 == 0 else x / 2\n",
        "\n",
        "print(result(num))"
      ],
      "metadata": {
        "colab": {
          "base_uri": "https://localhost:8080/"
        },
        "id": "x6QCczs6Cut3",
        "outputId": "8d84081a-555b-4fac-a2d3-f4f342ecf9b0"
      },
      "execution_count": null,
      "outputs": [
        {
          "output_type": "stream",
          "name": "stdout",
          "text": [
            "20\n"
          ]
        }
      ]
    },
    {
      "cell_type": "code",
      "source": [
        "# Функция №4\n",
        "word = 'python'\n",
        "\n",
        "result = lambda x: 2 * len(x) if x == 'python' else len(x)\n",
        "\n",
        "print(result(word))"
      ],
      "metadata": {
        "colab": {
          "base_uri": "https://localhost:8080/"
        },
        "id": "MmICY-wHC9WI",
        "outputId": "06024b8d-3c72-4801-a80a-19b85c184494"
      },
      "execution_count": null,
      "outputs": [
        {
          "output_type": "stream",
          "name": "stdout",
          "text": [
            "12\n"
          ]
        }
      ]
    },
    {
      "cell_type": "code",
      "source": [
        "# Функция №5\n",
        "words = ['друг', \"враг\", \"мир\", \"шалаш\", \"сад\", \"овраг\", \"хозяйство\"]\n",
        "\n",
        "result = lambda x: any(x[i] == x[i][ : : -1] for i in range(len(x)))\n",
        "\n",
        "print(result(words))"
      ],
      "metadata": {
        "colab": {
          "base_uri": "https://localhost:8080/"
        },
        "id": "UY44Pd4aDSis",
        "outputId": "0c458d3d-76a3-4e9a-b200-2fac962629ac"
      },
      "execution_count": null,
      "outputs": [
        {
          "output_type": "stream",
          "name": "stdout",
          "text": [
            "True\n"
          ]
        }
      ]
    },
    {
      "cell_type": "code",
      "source": [
        "# Функция №6 (Итоговая)\n",
        "words = ['друг', \"враг\", \"мир\", \"шалаш\", \"сад\", \"овраг\", \"хозяйство\"]\n",
        "\n",
        "result = lambda y = list(filter((lambda x: x if x == x[ : : -1] else None), words)): any(y)\n",
        "\n",
        "print(result())"
      ],
      "metadata": {
        "colab": {
          "base_uri": "https://localhost:8080/"
        },
        "id": "9QCQ3FYCDze1",
        "outputId": "0eee09e2-b59e-476f-d3d9-f98bcbf9cd8f"
      },
      "execution_count": null,
      "outputs": [
        {
          "output_type": "stream",
          "name": "stdout",
          "text": [
            "True\n"
          ]
        }
      ]
    },
    {
      "cell_type": "markdown",
      "source": [
        "# ***Раздел №2***\n",
        "\n",
        "\n",
        "---\n",
        "\n",
        "\n",
        "# Генераторы 👾"
      ],
      "metadata": {
        "id": "xCi3FA01Ecl-"
      }
    },
    {
      "cell_type": "code",
      "source": [
        "# Генератор E (Снизу вверх, слева направо)\n",
        "try:\n",
        "\n",
        "  lines = int(input(\"Введите, сколько должно быть строк: \"))\n",
        "  columns = int(input(\"Введите, сколько должно быть столбцов: \"))\n",
        "  num = 0\n",
        "\n",
        "  data = [[i for i in range(num, (columns * lines), lines)] for num in range(lines)]\n",
        "  data.reverse()\n",
        "\n",
        "  for k in range(lines):\n",
        "    print(data[k])\n",
        "\n",
        "except ValueError:\n",
        "  print('Неверный ввод данных!')"
      ],
      "metadata": {
        "colab": {
          "base_uri": "https://localhost:8080/"
        },
        "id": "74DDOvrCFwbo",
        "outputId": "dd55258f-487e-4c0a-de75-ff37bb410833"
      },
      "execution_count": null,
      "outputs": [
        {
          "output_type": "stream",
          "name": "stdout",
          "text": [
            "Введите, сколько должно быть строк: 5\n",
            "Введите, сколько должно быть столбцов: 6\n",
            "[4, 9, 14, 19, 24, 29]\n",
            "[3, 8, 13, 18, 23, 28]\n",
            "[2, 7, 12, 17, 22, 27]\n",
            "[1, 6, 11, 16, 21, 26]\n",
            "[0, 5, 10, 15, 20, 25]\n"
          ]
        }
      ]
    },
    {
      "cell_type": "code",
      "source": [
        "# Генератор M\n",
        "try:\n",
        "\n",
        "  n = int(input('Введите число, обозначающее размеры массива: '))\n",
        "\n",
        "  data = [[1 if (n - j - i - 1) % 4 == 0 else (1 if j == n - i - 1 else 0) for j in range(n)] for i in range(n)]\n",
        "\n",
        "  for j in range(n):\n",
        "      print(data[j])\n",
        "\n",
        "except ValueError:\n",
        "  print('Неверный ввод данных!')"
      ],
      "metadata": {
        "id": "_zg7bOYZWzuI",
        "colab": {
          "base_uri": "https://localhost:8080/"
        },
        "outputId": "8362828c-a57e-4215-af6d-87e34d8dac73"
      },
      "execution_count": null,
      "outputs": [
        {
          "output_type": "stream",
          "name": "stdout",
          "text": [
            "Введите число, обозначающее размеры массива: 10\n",
            "[0, 1, 0, 0, 0, 1, 0, 0, 0, 1]\n",
            "[1, 0, 0, 0, 1, 0, 0, 0, 1, 0]\n",
            "[0, 0, 0, 1, 0, 0, 0, 1, 0, 0]\n",
            "[0, 0, 1, 0, 0, 0, 1, 0, 0, 0]\n",
            "[0, 1, 0, 0, 0, 1, 0, 0, 0, 1]\n",
            "[1, 0, 0, 0, 1, 0, 0, 0, 1, 0]\n",
            "[0, 0, 0, 1, 0, 0, 0, 1, 0, 0]\n",
            "[0, 0, 1, 0, 0, 0, 1, 0, 0, 0]\n",
            "[0, 1, 0, 0, 0, 1, 0, 0, 0, 1]\n",
            "[1, 0, 0, 0, 1, 0, 0, 0, 1, 0]\n"
          ]
        }
      ]
    },
    {
      "cell_type": "code",
      "source": [
        "# Генератор\n",
        "try:\n",
        "\n",
        "  lines = int(input('Введите количество строк: '))\n",
        "  columns = int(input('Введите количество столбцов: '))\n",
        "\n",
        "  data = [[min(i, j, lines - i - 1, columns - j - 1) for j in range(columns)] for i in range(lines)]\n",
        "\n",
        "  for i in range(lines):\n",
        "    print(data[i])\n",
        "\n",
        "except ValueError:\n",
        "  print('Неверный ввод данных!')"
      ],
      "metadata": {
        "colab": {
          "base_uri": "https://localhost:8080/"
        },
        "id": "hL5XQ-QRoWJD",
        "outputId": "5efa7d57-8fa1-49f5-be2c-58e9e00cfbbd"
      },
      "execution_count": null,
      "outputs": [
        {
          "output_type": "stream",
          "name": "stdout",
          "text": [
            "Введите количество строк: 5\n",
            "Введите количество столбцов: 7\n",
            "[0, 0, 0, 0, 0, 0, 0]\n",
            "[0, 1, 1, 1, 1, 1, 0]\n",
            "[0, 1, 2, 2, 2, 1, 0]\n",
            "[0, 1, 1, 1, 1, 1, 0]\n",
            "[0, 0, 0, 0, 0, 0, 0]\n"
          ]
        }
      ]
    },
    {
      "cell_type": "markdown",
      "source": [
        "# ***Раздел №3***\n",
        "\n",
        "\n",
        "---\n",
        "\n",
        "\n",
        "# Регулярные выражения 👽"
      ],
      "metadata": {
        "id": "h1mWuMbrEd-_"
      }
    },
    {
      "cell_type": "code",
      "source": [
        "# Регулярное выражение №1\n",
        "import re\n",
        "\n",
        "string = input('Пишите тут: ')\n",
        "pattern = r'[^a-zA-Z0-9]'\n",
        "\n",
        "result = re.search(pattern, string)\n",
        "\n",
        "print(not bool(result))"
      ],
      "metadata": {
        "id": "TNUHg4s-Fxk6",
        "colab": {
          "base_uri": "https://localhost:8080/"
        },
        "outputId": "03f51059-6cc3-4ed0-fd05-6a911b8d2779"
      },
      "execution_count": null,
      "outputs": [
        {
          "output_type": "stream",
          "name": "stdout",
          "text": [
            "Пишите тут: asdwAWDAD2112dasdaW\n",
            "True\n"
          ]
        }
      ]
    },
    {
      "cell_type": "code",
      "source": [
        "# Регулярное выражение №3\n",
        "import re\n",
        "\n",
        "string = input('Пишите тут: ')\n",
        "pattern = r'ab{1,}'\n",
        "\n",
        "result = re.search(pattern, string)\n",
        "\n",
        "if result:\n",
        "    print(result[0])\n",
        "else:\n",
        "    None"
      ],
      "metadata": {
        "colab": {
          "base_uri": "https://localhost:8080/"
        },
        "id": "KWfP0QfJzPp-",
        "outputId": "5282690a-2744-49c6-8bbe-89f958f07858"
      },
      "execution_count": null,
      "outputs": [
        {
          "output_type": "stream",
          "name": "stdout",
          "text": [
            "Пишите тут: abbbb\n",
            "abbbb\n"
          ]
        }
      ]
    },
    {
      "cell_type": "code",
      "source": [
        "# Регулярное выражение №7\n",
        "import re\n",
        "\n",
        "string = input('Пишите тут: ')\n",
        "pattern = r'[a-z]_[a-z]'\n",
        "\n",
        "result = re.findall(pattern, string)\n",
        "\n",
        "if result:\n",
        "    print(result)\n",
        "else:\n",
        "    None"
      ],
      "metadata": {
        "colab": {
          "base_uri": "https://localhost:8080/"
        },
        "id": "BraniIunzPfW",
        "outputId": "c9c59561-340b-4bb4-b5a0-f55c4afee97c"
      },
      "execution_count": null,
      "outputs": [
        {
          "output_type": "stream",
          "name": "stdout",
          "text": [
            "Пишите тут: hel_lo m_y fri_end\n",
            "['l_l', 'm_y', 'i_e']\n"
          ]
        }
      ]
    },
    {
      "cell_type": "code",
      "source": [
        "# Регулярное выражение №12\n",
        "import re\n",
        "\n",
        "string = input('Пишите тут: ')\n",
        "pattern = r'\\w+\\Bz\\w+'\n",
        "\n",
        "result = re.search(pattern, string)\n",
        "\n",
        "if result:\n",
        "    print(result[0])\n",
        "else:\n",
        "    None"
      ],
      "metadata": {
        "colab": {
          "base_uri": "https://localhost:8080/"
        },
        "id": "RR8XrZw9zPUe",
        "outputId": "0415f5d7-82f7-4f4b-ec43-bf7c26563033"
      },
      "execution_count": null,
      "outputs": [
        {
          "output_type": "stream",
          "name": "stdout",
          "text": [
            "Пишите тут: highrizing\n",
            "highrizing\n"
          ]
        }
      ]
    },
    {
      "cell_type": "code",
      "source": [
        "# Регулярное выражение №13\n",
        "import re\n",
        "\n",
        "string = input('Пишите тут: ')\n",
        "pattern = r'\\w+\\Bz\\w+'\n",
        "\n",
        "result = re.search(pattern, string)\n",
        "\n",
        "if result:\n",
        "    print(result[0])\n",
        "else:\n",
        "    None"
      ],
      "metadata": {
        "colab": {
          "base_uri": "https://localhost:8080/"
        },
        "id": "SZBjQJ6pzPJO",
        "outputId": "b7199bc6-ded7-41d1-8e17-5156a633801e"
      },
      "execution_count": null,
      "outputs": [
        {
          "output_type": "stream",
          "name": "stdout",
          "text": [
            "Пишите тут: asdzsdaf\n",
            "asdzsdaf\n"
          ]
        }
      ]
    },
    {
      "cell_type": "code",
      "source": [
        "# Регулярное выражение №15\n",
        "import re\n",
        "\n",
        "string = input('Пишите тут: ')\n",
        "pattern = r'\\d\\S+'\n",
        "\n",
        "result = re.search(pattern, string)\n",
        "\n",
        "if result:\n",
        "    print(result[0])\n",
        "else:\n",
        "    None"
      ],
      "metadata": {
        "colab": {
          "base_uri": "https://localhost:8080/"
        },
        "id": "OiGUGF-2zO9O",
        "outputId": "b1ce6875-7304-4668-c399-0576d100d402"
      },
      "execution_count": null,
      "outputs": [
        {
          "output_type": "stream",
          "name": "stdout",
          "text": [
            "Пишите тут: 123asdw\n",
            "123asdw\n"
          ]
        }
      ]
    },
    {
      "cell_type": "code",
      "source": [
        "# Регулярное выражение №16\n",
        "# Не понял формулировку задания"
      ],
      "metadata": {
        "id": "n43hIbM4zOxM"
      },
      "execution_count": null,
      "outputs": []
    },
    {
      "cell_type": "code",
      "source": [
        "# Регулярное выражение №18\n",
        "import re\n",
        "\n",
        "string = input('Пишите тут: ')\n",
        "pattern = r'\\d{1,3}'\n",
        "\n",
        "result = re.findall(pattern, string)\n",
        "\n",
        "if result:\n",
        "    print(result[0])\n",
        "else:\n",
        "    None"
      ],
      "metadata": {
        "colab": {
          "base_uri": "https://localhost:8080/"
        },
        "id": "-XKwTU-WzOlL",
        "outputId": "659deb89-c9c0-4275-f3b5-c1a98727df1e"
      },
      "execution_count": null,
      "outputs": [
        {
          "output_type": "stream",
          "name": "stdout",
          "text": [
            "Пишите тут: asdw fawd 1 \n",
            "1\n"
          ]
        }
      ]
    },
    {
      "cell_type": "code",
      "source": [
        "# Регулярное выражение №22\n"
      ],
      "metadata": {
        "id": "CzO8ofLGzOYH"
      },
      "execution_count": null,
      "outputs": []
    },
    {
      "cell_type": "code",
      "source": [
        "# Регулярное выражение №24\n"
      ],
      "metadata": {
        "id": "TuJeztzVzI5G"
      },
      "execution_count": null,
      "outputs": []
    },
    {
      "cell_type": "code",
      "source": [
        "# Регулярное выражение №25\n"
      ],
      "metadata": {
        "id": "JaLLwFEgzKBv"
      },
      "execution_count": null,
      "outputs": []
    },
    {
      "cell_type": "code",
      "source": [
        "# Регулярное выражение №28\n"
      ],
      "metadata": {
        "id": "f79RQxmszJ2Q"
      },
      "execution_count": null,
      "outputs": []
    },
    {
      "cell_type": "code",
      "source": [
        "# Регулярное выражение №31\n"
      ],
      "metadata": {
        "id": "QHhLNQlqzJrJ"
      },
      "execution_count": null,
      "outputs": []
    },
    {
      "cell_type": "code",
      "source": [
        "# Регулярное выражение №45\n"
      ],
      "metadata": {
        "id": "t0HE0IoszJZj"
      },
      "execution_count": null,
      "outputs": []
    }
  ]
}