{
  "nbformat": 4,
  "nbformat_minor": 0,
  "metadata": {
    "colab": {
      "private_outputs": true,
      "provenance": [],
      "mount_file_id": "19KGitrhSPW0Dy18B-eKZlctFOe2BLtTV",
      "authorship_tag": "ABX9TyP2q2fq5dv4nssd6jGmUAln",
      "include_colab_link": true
    },
    "kernelspec": {
      "name": "python3",
      "display_name": "Python 3"
    },
    "language_info": {
      "name": "python"
    }
  },
  "cells": [
    {
      "cell_type": "markdown",
      "metadata": {
        "id": "view-in-github",
        "colab_type": "text"
      },
      "source": [
        "<a href=\"https://colab.research.google.com/github/Milanasa/tutor-quests/blob/main/testSQLite.ipynb\" target=\"_parent\"><img src=\"https://colab.research.google.com/assets/colab-badge.svg\" alt=\"Open In Colab\"/></a>"
      ]
    },
    {
      "cell_type": "code",
      "source": [
        "import seaborn as sns\n",
        "import pandas as pd\n",
        "import numpy as np\n",
        "import matplotlib.pyplot as plt\n",
        "import re\n",
        "from datetime import datetime,date\n",
        "import sqlite3"
      ],
      "metadata": {
        "id": "gehxQrxUjr7r"
      },
      "execution_count": null,
      "outputs": []
    },
    {
      "cell_type": "code",
      "source": [
        "# Импортируем таблицу с данными о погоде за 14 лет\n",
        "wr = pd.read_csv('/content/drive/MyDrive/weatherHARD.csv', sep = ';', encoding = 'UTF-8', skiprows = 6, low_memory=False)\n",
        "df = pd.DataFrame(wr)\n",
        "display(df)"
      ],
      "metadata": {
        "id": "q9lYMrQDjuVq"
      },
      "execution_count": null,
      "outputs": []
    },
    {
      "cell_type": "code",
      "source": [
        "df_main = df['Местное время в Туле']"
      ],
      "metadata": {
        "id": "QSmKY52pj1O5"
      },
      "execution_count": null,
      "outputs": []
    },
    {
      "cell_type": "code",
      "source": [
        "DF = pd.DataFrame(df_main)\n",
        "display(DF)\n",
        "DF_COPY = DF"
      ],
      "metadata": {
        "id": "EpTpncMsj1qc"
      },
      "execution_count": null,
      "outputs": []
    },
    {
      "cell_type": "code",
      "execution_count": null,
      "metadata": {
        "id": "SnESCq-IjmFM"
      },
      "outputs": [],
      "source": [
        "NEW_DF = DF_COPY.reset_index()\n",
        "display(NEW_DF)"
      ]
    },
    {
      "cell_type": "code",
      "source": [
        "DF_WITH_DATE = NEW_DF['index'].str.split(' ', expand=True)\n",
        "DF_WITH_DATE = DF_WITH_DATE.rename(columns = {0: 'Дата'})\n",
        "DF_WITH_DATE = DF_WITH_DATE.rename(columns = {1: 'Время'})\n",
        "\n",
        "display(DF_WITH_DATE)"
      ],
      "metadata": {
        "id": "CRPB5kxakYCK"
      },
      "execution_count": null,
      "outputs": []
    },
    {
      "cell_type": "code",
      "source": [
        "DF_WITH_DATE = DF_WITH_DATE.join(NEW_DF['Местное время в Туле'])\n",
        "DF_WITH_DATE = DF_WITH_DATE.rename(columns = {'Местное время в Туле': 'Температура'})\n",
        "display(DF_WITH_DATE)"
      ],
      "metadata": {
        "id": "6UQm28-Zkaql"
      },
      "execution_count": null,
      "outputs": []
    },
    {
      "cell_type": "code",
      "source": [
        "DATE = DF_WITH_DATE['Дата']\n",
        "TIME = DF_WITH_DATE['Время']\n",
        "TEMP = DF_WITH_DATE['Температура']\n",
        "DFFF_COPY = df.reset_index()\n",
        "PRESSURE = DFFF_COPY['Po']"
      ],
      "metadata": {
        "id": "dqE0uN5_kc0F"
      },
      "execution_count": null,
      "outputs": []
    },
    {
      "cell_type": "code",
      "source": [
        "# Запускаем базу данных\n",
        "connection = sqlite3.connect('WEATHER_DATABASE.db')\n",
        "cursor = connection.cursor()"
      ],
      "metadata": {
        "id": "3kNpcg2OkeZi"
      },
      "execution_count": null,
      "outputs": []
    },
    {
      "cell_type": "code",
      "source": [
        "# Создаём SQLite таблицу\n",
        "cursor.execute('''\n",
        "CREATE TABLE IF NOT EXISTS Weather (\n",
        "id INTEGER PRIMARY KEY,\n",
        "date TEXT NOT NULL,\n",
        "time TEXT NOT NULL,\n",
        "temp REAL,\n",
        "pressure REAL\n",
        ")\n",
        "''')"
      ],
      "metadata": {
        "id": "eb6GGvXakgnk"
      },
      "execution_count": null,
      "outputs": []
    },
    {
      "cell_type": "code",
      "source": [
        "# Ввод данных в таблицу\n",
        "for i in range(len(DF_WITH_DATE.index)):\n",
        "  cursor.execute('INSERT INTO Weather (date, time, temp, pressure) VALUES (?, ?, ?, ?)', (DATE.loc[i], TIME.loc[i], TEMP.loc[i], PRESSURE.loc[i]))"
      ],
      "metadata": {
        "id": "lEdYni0mkisV"
      },
      "execution_count": null,
      "outputs": []
    },
    {
      "cell_type": "code",
      "source": [
        "cursor.execute('CREATE INDEX idx_date ON Weather (date)')\n",
        "cursor.execute('CREATE INDEX idx_time ON Weather (time)')\n",
        "cursor.execute('CREATE INDEX idx_temp ON Weather (temp)')"
      ],
      "metadata": {
        "id": "yMlvZQ-5kkpR"
      },
      "execution_count": null,
      "outputs": []
    },
    {
      "cell_type": "code",
      "source": [
        "# Находим дни, в которые температура была от -6 до -5 градусов цельсия\n",
        "cursor.execute('SELECT date, temp FROM Weather WHERE temp <= -5 AND temp >= -6')"
      ],
      "metadata": {
        "id": "70yqbbmRkmQd"
      },
      "execution_count": null,
      "outputs": []
    },
    {
      "cell_type": "code",
      "source": [
        "results = cursor.fetchall()"
      ],
      "metadata": {
        "id": "p6pl5kRSkoTw"
      },
      "execution_count": null,
      "outputs": []
    },
    {
      "cell_type": "code",
      "source": [
        "for row in results:\n",
        "  print(row)"
      ],
      "metadata": {
        "id": "Tb3e3iJOkqN8"
      },
      "execution_count": null,
      "outputs": []
    },
    {
      "cell_type": "code",
      "source": [
        "# Создаём функцию для создания регулярных выражений\n",
        "def regexp(expr, item):\n",
        "    reg = re.compile(expr)\n",
        "    return reg.search(item) is not None\n",
        "\n",
        "# Подключаем созданную функцию в SQLite\n",
        "connection.create_function(\"REGEXP\", 2, regexp)\n",
        "\n",
        "# С помощью регулярных выражений выводим дни, температуру и время 12 февраля за все года\n",
        "cursor.execute('SELECT date, temp, time FROM Weather WHERE date REGEXP ?', [r'12.02'])\n",
        "results = cursor.fetchall()\n",
        "\n",
        "for row in results:\n",
        "  print(row)"
      ],
      "metadata": {
        "id": "7sP5ssaFkttp"
      },
      "execution_count": null,
      "outputs": []
    },
    {
      "cell_type": "code",
      "source": [
        "# С помощью регулярных выражений ищем количество дней, когда температура была строго выше 0 градусов цельсия в 2016 году\n",
        "cursor.execute('SELECT COUNT(date) FROM Weather WHERE date REGEXP ? AND temp > 0', [r'\\d\\d.\\d\\d.2016'])\n",
        "results = cursor.fetchall()\n",
        "\n",
        "print(results[0][0] / 9)"
      ],
      "metadata": {
        "id": "4GvahRyakwIM"
      },
      "execution_count": null,
      "outputs": []
    },
    {
      "cell_type": "code",
      "source": [
        "# Выводим первые 5 дат, когда температура была -25 градусов цельсия\n",
        "cursor.execute('SELECT date, temp FROM Weather WHERE temp = -25')\n",
        "results = cursor.fetchmany(5)\n",
        "\n",
        "for row in results:\n",
        "  print(row)\n",
        "\n",
        "# В результате всего 3 строки, так как всего 3 дня, когда температура была -25 градусов.\n",
        "# Это можно проверить, уменьшив нужную температуру на один градус, будет 5 строк."
      ],
      "metadata": {
        "id": "XRGxDJuGkyKc"
      },
      "execution_count": null,
      "outputs": []
    },
    {
      "cell_type": "code",
      "source": [
        "# Ищем минимальную и максимальную температуру за 14 лет\n",
        "cursor.execute('SELECT date, temp FROM Weather WHERE temp = (SELECT MAX(temp) FROM Weather)')\n",
        "results = cursor.fetchone()\n",
        "\n",
        "cursor.execute('SELECT date, temp FROM Weather WHERE temp = (SELECT MIN(temp) FROM Weather)')\n",
        "results1 = cursor.fetchone()\n",
        "\n",
        "print(f'Максимальная: {results}, минимальная {results1}')"
      ],
      "metadata": {
        "id": "gI9o2gGFk0LM"
      },
      "execution_count": null,
      "outputs": []
    },
    {
      "cell_type": "code",
      "source": [
        "MOST_USEFUL_SQL_FUNCTIONS = {0 : 'SELECT', 1 : 'CREATE', 2 : ['MAX', 'MIN', 'AVG'], 3: ['FROM', 'WHERE', 'INTO']}"
      ],
      "metadata": {
        "id": "_fWKTYobk2tk"
      },
      "execution_count": null,
      "outputs": []
    }
  ]
}